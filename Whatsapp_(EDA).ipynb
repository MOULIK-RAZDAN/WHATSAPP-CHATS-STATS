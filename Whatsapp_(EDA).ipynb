{
  "nbformat": 4,
  "nbformat_minor": 0,
  "metadata": {
    "colab": {
      "name": "Whatsapp (EDA).ipynb",
      "provenance": [],
      "collapsed_sections": [],
      "mount_file_id": "1Ozi1dq7Onsf6nCl8l53c21XWNmDxIkEP",
      "authorship_tag": "ABX9TyMYDJ0LHpOlwf3BucwTFtVW",
      "include_colab_link": true
    },
    "kernelspec": {
      "name": "python3",
      "display_name": "Python 3"
    },
    "language_info": {
      "name": "python"
    }
  },
  "cells": [
    {
      "cell_type": "markdown",
      "metadata": {
        "id": "view-in-github",
        "colab_type": "text"
      },
      "source": [
        "<a href=\"https://colab.research.google.com/github/MOULIK-RAZDAN/WHATSAPP-CHATS-STATS/blob/main/Whatsapp_(EDA).ipynb\" target=\"_parent\"><img src=\"https://colab.research.google.com/assets/colab-badge.svg\" alt=\"Open In Colab\"/></a>"
      ]
    },
    {
      "cell_type": "markdown",
      "metadata": {
        "id": "rC68P0WLW610"
      },
      "source": [
        "#**WHATSAPP EXPLORARTRY DATA ANALYSIS**#\n"
      ]
    },
    {
      "cell_type": "code",
      "metadata": {
        "id": "MnB-5US1VJJc"
      },
      "source": [
        "data_filename = '/content/drive/MyDrive/projects/whatsapp message (EDA)/WhatsApp Chat with Team Devil.txt'\n",
        "#contains path to the txt file"
      ],
      "execution_count": 1,
      "outputs": []
    },
    {
      "cell_type": "markdown",
      "metadata": {
        "id": "rWEGj0FPiRKA"
      },
      "source": [
        "#IMPORTING LIBRARIES"
      ]
    },
    {
      "cell_type": "code",
      "metadata": {
        "colab": {
          "base_uri": "https://localhost:8080/"
        },
        "id": "MCMqO5rElrU_",
        "outputId": "fea82567-ccd9-46aa-e193-8c6316621625"
      },
      "source": [
        "!pip install emoji"
      ],
      "execution_count": 2,
      "outputs": [
        {
          "output_type": "stream",
          "text": [
            "Collecting emoji\n",
            "\u001b[?25l  Downloading https://files.pythonhosted.org/packages/24/fa/b3368f41b95a286f8d300e323449ab4e86b85334c2e0b477e94422b8ed0f/emoji-1.2.0-py3-none-any.whl (131kB)\n",
            "\r\u001b[K     |██▌                             | 10kB 16.0MB/s eta 0:00:01\r\u001b[K     |█████                           | 20kB 19.6MB/s eta 0:00:01\r\u001b[K     |███████▌                        | 30kB 10.4MB/s eta 0:00:01\r\u001b[K     |██████████                      | 40kB 8.4MB/s eta 0:00:01\r\u001b[K     |████████████▌                   | 51kB 5.3MB/s eta 0:00:01\r\u001b[K     |███████████████                 | 61kB 6.0MB/s eta 0:00:01\r\u001b[K     |█████████████████▌              | 71kB 6.3MB/s eta 0:00:01\r\u001b[K     |████████████████████            | 81kB 6.1MB/s eta 0:00:01\r\u001b[K     |██████████████████████▌         | 92kB 6.4MB/s eta 0:00:01\r\u001b[K     |█████████████████████████       | 102kB 6.7MB/s eta 0:00:01\r\u001b[K     |███████████████████████████▌    | 112kB 6.7MB/s eta 0:00:01\r\u001b[K     |██████████████████████████████  | 122kB 6.7MB/s eta 0:00:01\r\u001b[K     |████████████████████████████████| 133kB 6.7MB/s \n",
            "\u001b[?25hInstalling collected packages: emoji\n",
            "Successfully installed emoji-1.2.0\n"
          ],
          "name": "stdout"
        }
      ]
    },
    {
      "cell_type": "code",
      "metadata": {
        "id": "PNEhcuVehzpZ"
      },
      "source": [
        "import pandas as pd\n",
        "import numpy as np\n",
        "import matplotlib.pyplot as plt\n",
        "import matplotlib\n",
        "import plotly.express as px\n",
        "import seaborn as sns\n",
        "import os\n",
        "import emoji\n",
        "import re\n",
        "import datetime as time\n",
        "from collections import  Counter\n",
        "from wordcloud import WordCloud,STOPWORDS"
      ],
      "execution_count": 3,
      "outputs": []
    },
    {
      "cell_type": "code",
      "metadata": {
        "id": "X7BaqIKElm2M",
        "colab": {
          "base_uri": "https://localhost:8080/",
          "height": 417
        },
        "outputId": "0dc4ca7a-14b5-449f-841a-1cee7b82e981"
      },
      "source": [
        "whatsapp_df = pd.read_fwf(data_filename, header = None)\n",
        "whatsapp_df"
      ],
      "execution_count": 4,
      "outputs": [
        {
          "output_type": "execute_result",
          "data": {
            "text/html": [
              "<div>\n",
              "<style scoped>\n",
              "    .dataframe tbody tr th:only-of-type {\n",
              "        vertical-align: middle;\n",
              "    }\n",
              "\n",
              "    .dataframe tbody tr th {\n",
              "        vertical-align: top;\n",
              "    }\n",
              "\n",
              "    .dataframe thead th {\n",
              "        text-align: right;\n",
              "    }\n",
              "</style>\n",
              "<table border=\"1\" class=\"dataframe\">\n",
              "  <thead>\n",
              "    <tr style=\"text-align: right;\">\n",
              "      <th></th>\n",
              "      <th>0</th>\n",
              "      <th>1</th>\n",
              "      <th>2</th>\n",
              "      <th>3</th>\n",
              "      <th>4</th>\n",
              "      <th>5</th>\n",
              "      <th>6</th>\n",
              "      <th>7</th>\n",
              "      <th>8</th>\n",
              "      <th>9</th>\n",
              "      <th>10</th>\n",
              "    </tr>\n",
              "  </thead>\n",
              "  <tbody>\n",
              "    <tr>\n",
              "      <th>0</th>\n",
              "      <td>10/01/2021, 7:26 pm - Messages and calls are e...</td>\n",
              "      <td>can</td>\n",
              "      <td>read</td>\n",
              "      <td>or</td>\n",
              "      <td>listen</td>\n",
              "      <td>to</td>\n",
              "      <td>them.</td>\n",
              "      <td>Tap</td>\n",
              "      <td>to</td>\n",
              "      <td>learn</td>\n",
              "      <td>more.</td>\n",
              "    </tr>\n",
              "    <tr>\n",
              "      <th>1</th>\n",
              "      <td>10/01/2021, 7:26 pm - Omesh Kumar created grou...</td>\n",
              "      <td>NaN</td>\n",
              "      <td>NaN</td>\n",
              "      <td>NaN</td>\n",
              "      <td>NaN</td>\n",
              "      <td>NaN</td>\n",
              "      <td>NaN</td>\n",
              "      <td>NaN</td>\n",
              "      <td>NaN</td>\n",
              "      <td>NaN</td>\n",
              "      <td>NaN</td>\n",
              "    </tr>\n",
              "    <tr>\n",
              "      <th>2</th>\n",
              "      <td>10/01/2021, 7:26 pm - Omesh Kumar added you</td>\n",
              "      <td>NaN</td>\n",
              "      <td>NaN</td>\n",
              "      <td>NaN</td>\n",
              "      <td>NaN</td>\n",
              "      <td>NaN</td>\n",
              "      <td>NaN</td>\n",
              "      <td>NaN</td>\n",
              "      <td>NaN</td>\n",
              "      <td>NaN</td>\n",
              "      <td>NaN</td>\n",
              "    </tr>\n",
              "    <tr>\n",
              "      <th>3</th>\n",
              "      <td>10/01/2021, 7:26 pm - Omesh Kumar: Guys from n...</td>\n",
              "      <td>NaN</td>\n",
              "      <td>NaN</td>\n",
              "      <td>NaN</td>\n",
              "      <td>NaN</td>\n",
              "      <td>NaN</td>\n",
              "      <td>NaN</td>\n",
              "      <td>NaN</td>\n",
              "      <td>NaN</td>\n",
              "      <td>NaN</td>\n",
              "      <td>NaN</td>\n",
              "    </tr>\n",
              "    <tr>\n",
              "      <th>4</th>\n",
              "      <td>10/01/2021, 7:26 pm - Omesh Kumar: I can trust...</td>\n",
              "      <td>NaN</td>\n",
              "      <td>NaN</td>\n",
              "      <td>NaN</td>\n",
              "      <td>NaN</td>\n",
              "      <td>NaN</td>\n",
              "      <td>NaN</td>\n",
              "      <td>NaN</td>\n",
              "      <td>NaN</td>\n",
              "      <td>NaN</td>\n",
              "      <td>NaN</td>\n",
              "    </tr>\n",
              "    <tr>\n",
              "      <th>...</th>\n",
              "      <td>...</td>\n",
              "      <td>...</td>\n",
              "      <td>...</td>\n",
              "      <td>...</td>\n",
              "      <td>...</td>\n",
              "      <td>...</td>\n",
              "      <td>...</td>\n",
              "      <td>...</td>\n",
              "      <td>...</td>\n",
              "      <td>...</td>\n",
              "      <td>...</td>\n",
              "    </tr>\n",
              "    <tr>\n",
              "      <th>11902</th>\n",
              "      <td>01/06/2021, 10:14 pm - Sandeep: &lt;Media omitted&gt;</td>\n",
              "      <td>NaN</td>\n",
              "      <td>NaN</td>\n",
              "      <td>NaN</td>\n",
              "      <td>NaN</td>\n",
              "      <td>NaN</td>\n",
              "      <td>NaN</td>\n",
              "      <td>NaN</td>\n",
              "      <td>NaN</td>\n",
              "      <td>NaN</td>\n",
              "      <td>NaN</td>\n",
              "    </tr>\n",
              "    <tr>\n",
              "      <th>11903</th>\n",
              "      <td>02/06/2021, 12:36 pm - Omesh Kumar: &lt;Media omi...</td>\n",
              "      <td>NaN</td>\n",
              "      <td>NaN</td>\n",
              "      <td>NaN</td>\n",
              "      <td>NaN</td>\n",
              "      <td>NaN</td>\n",
              "      <td>NaN</td>\n",
              "      <td>NaN</td>\n",
              "      <td>NaN</td>\n",
              "      <td>NaN</td>\n",
              "      <td>NaN</td>\n",
              "    </tr>\n",
              "    <tr>\n",
              "      <th>11904</th>\n",
              "      <td>02/06/2021, 12:39 pm - +91 77340 02221: lagta ...</td>\n",
              "      <td>NaN</td>\n",
              "      <td>NaN</td>\n",
              "      <td>NaN</td>\n",
              "      <td>NaN</td>\n",
              "      <td>NaN</td>\n",
              "      <td>NaN</td>\n",
              "      <td>NaN</td>\n",
              "      <td>NaN</td>\n",
              "      <td>NaN</td>\n",
              "      <td>NaN</td>\n",
              "    </tr>\n",
              "    <tr>\n",
              "      <th>11905</th>\n",
              "      <td>02/06/2021, 12:39 pm - +91 77340 02221: 😢</td>\n",
              "      <td>NaN</td>\n",
              "      <td>NaN</td>\n",
              "      <td>NaN</td>\n",
              "      <td>NaN</td>\n",
              "      <td>NaN</td>\n",
              "      <td>NaN</td>\n",
              "      <td>NaN</td>\n",
              "      <td>NaN</td>\n",
              "      <td>NaN</td>\n",
              "      <td>NaN</td>\n",
              "    </tr>\n",
              "    <tr>\n",
              "      <th>11906</th>\n",
              "      <td>02/06/2021, 12:39 pm - +91 77340 02221: corona...</td>\n",
              "      <td>NaN</td>\n",
              "      <td>NaN</td>\n",
              "      <td>NaN</td>\n",
              "      <td>NaN</td>\n",
              "      <td>NaN</td>\n",
              "      <td>NaN</td>\n",
              "      <td>NaN</td>\n",
              "      <td>NaN</td>\n",
              "      <td>NaN</td>\n",
              "      <td>NaN</td>\n",
              "    </tr>\n",
              "  </tbody>\n",
              "</table>\n",
              "<p>11907 rows × 11 columns</p>\n",
              "</div>"
            ],
            "text/plain": [
              "                                                      0    1   ...     9      10\n",
              "0      10/01/2021, 7:26 pm - Messages and calls are e...  can  ...  learn  more.\n",
              "1      10/01/2021, 7:26 pm - Omesh Kumar created grou...  NaN  ...    NaN    NaN\n",
              "2            10/01/2021, 7:26 pm - Omesh Kumar added you  NaN  ...    NaN    NaN\n",
              "3      10/01/2021, 7:26 pm - Omesh Kumar: Guys from n...  NaN  ...    NaN    NaN\n",
              "4      10/01/2021, 7:26 pm - Omesh Kumar: I can trust...  NaN  ...    NaN    NaN\n",
              "...                                                  ...  ...  ...    ...    ...\n",
              "11902    01/06/2021, 10:14 pm - Sandeep: <Media omitted>  NaN  ...    NaN    NaN\n",
              "11903  02/06/2021, 12:36 pm - Omesh Kumar: <Media omi...  NaN  ...    NaN    NaN\n",
              "11904  02/06/2021, 12:39 pm - +91 77340 02221: lagta ...  NaN  ...    NaN    NaN\n",
              "11905          02/06/2021, 12:39 pm - +91 77340 02221: 😢  NaN  ...    NaN    NaN\n",
              "11906  02/06/2021, 12:39 pm - +91 77340 02221: corona...  NaN  ...    NaN    NaN\n",
              "\n",
              "[11907 rows x 11 columns]"
            ]
          },
          "metadata": {
            "tags": []
          },
          "execution_count": 4
        }
      ]
    },
    {
      "cell_type": "code",
      "metadata": {
        "colab": {
          "base_uri": "https://localhost:8080/"
        },
        "id": "sv1EwgRHl_wE",
        "outputId": "c4afc892-5f68-476f-de5b-b94ab831ae54"
      },
      "source": [
        "whatsapp_df.info()"
      ],
      "execution_count": 5,
      "outputs": [
        {
          "output_type": "stream",
          "text": [
            "<class 'pandas.core.frame.DataFrame'>\n",
            "RangeIndex: 11907 entries, 0 to 11906\n",
            "Data columns (total 11 columns):\n",
            " #   Column  Non-Null Count  Dtype \n",
            "---  ------  --------------  ----- \n",
            " 0   0       11705 non-null  object\n",
            " 1   1       135 non-null    object\n",
            " 2   2       115 non-null    object\n",
            " 3   3       101 non-null    object\n",
            " 4   4       88 non-null     object\n",
            " 5   5       66 non-null     object\n",
            " 6   6       66 non-null     object\n",
            " 7   7       59 non-null     object\n",
            " 8   8       54 non-null     object\n",
            " 9   9       51 non-null     object\n",
            " 10  10      48 non-null     object\n",
            "dtypes: object(11)\n",
            "memory usage: 1023.4+ KB\n"
          ],
          "name": "stdout"
        }
      ]
    },
    {
      "cell_type": "markdown",
      "metadata": {
        "id": "O-qypCJdDA5a"
      },
      "source": [
        "##Converting chat log to a dataframe\n"
      ]
    },
    {
      "cell_type": "code",
      "metadata": {
        "id": "x-oJDKSBmTtO"
      },
      "source": [
        "def txtTodf(txt_file):\n",
        "    '''Convert WhatsApp chat log text file to a Pandas dataframe.'''\n",
        "    \n",
        "    # some regex to account for messages taking up multiple lines\n",
        "    pat = re.compile(r'^(\\d\\d\\/\\d\\d\\/\\d\\d\\d\\d.*?)(?=^^\\d\\d\\/\\d\\d\\/\\d\\d\\d\\d|\\Z)', re.S | re.M)\n",
        "    with open(txt_file) as file:\n",
        "        data = [m.group(1).strip().replace('\\n', ' ') for m in pat.finditer(file.read())]\n",
        "\n",
        "    user     = []; \n",
        "    message  = []; \n",
        "    datetime = []\n",
        "    \n",
        "    for row in data:\n",
        "\n",
        "        # timestamp is before the first dash\n",
        "        datetime.append(row.split(' - ')[0])\n",
        "\n",
        "        # sender is between am/pm, dash and colon\n",
        "        try:\n",
        "            s = re.search('m - (.*?):', row).group(1)\n",
        "            user.append(s)\n",
        "        except:\n",
        "            user.append('')\n",
        "\n",
        "        # message content is after the first colon\n",
        "        try:\n",
        "            message.append(row.split(': ', 1)[1])\n",
        "        except:\n",
        "            message.append('')\n",
        "\n",
        "    df = pd.DataFrame(zip(datetime, user, message), columns=['datetime', 'user', 'message'])\n",
        "    df['datetime'] = pd.to_datetime(df.datetime, format='%d/%m/%Y, %I:%M %p')\n",
        "\n",
        "    # remove events not associated with a sender\n",
        "    df = df[df.user != ''].reset_index(drop=True)\n",
        "    \n",
        "    return df\n",
        "\n",
        "whatsapp_df = txtTodf('/content/drive/MyDrive/projects/whatsapp message (EDA)/WhatsApp Chat with Team Devil.txt')"
      ],
      "execution_count": 6,
      "outputs": []
    },
    {
      "cell_type": "markdown",
      "metadata": {
        "id": "oQ6DROnWE_ce"
      },
      "source": [
        "#MAKING COPIES OF DATAFRAME"
      ]
    },
    {
      "cell_type": "code",
      "metadata": {
        "id": "tn4-u5DTE-1k"
      },
      "source": [
        "whatsapp_df1 = whatsapp_df.copy();\n",
        "whatsapp_df2 = whatsapp_df.copy();\n",
        "whatsapp_df3= whatsapp_df.copy();\n",
        "whatsapp_df4 = whatsapp_df.copy();\n",
        "whatsapp_df5 = whatsapp_df.copy();\n",
        "whatsapp_df6 = whatsapp_df.copy();\n",
        "whatsapp_df7 = whatsapp_df.copy();"
      ],
      "execution_count": 7,
      "outputs": []
    },
    {
      "cell_type": "code",
      "metadata": {
        "colab": {
          "base_uri": "https://localhost:8080/"
        },
        "id": "XBFTDmRXzUr5",
        "outputId": "e431f9e4-01bb-463f-f9da-ab76e0647a0b"
      },
      "source": [
        "whatsapp_df2.info()"
      ],
      "execution_count": 8,
      "outputs": [
        {
          "output_type": "stream",
          "text": [
            "<class 'pandas.core.frame.DataFrame'>\n",
            "RangeIndex: 11054 entries, 0 to 11053\n",
            "Data columns (total 3 columns):\n",
            " #   Column    Non-Null Count  Dtype         \n",
            "---  ------    --------------  -----         \n",
            " 0   datetime  11054 non-null  datetime64[ns]\n",
            " 1   user      11054 non-null  object        \n",
            " 2   message   11054 non-null  object        \n",
            "dtypes: datetime64[ns](1), object(2)\n",
            "memory usage: 259.2+ KB\n"
          ],
          "name": "stdout"
        }
      ]
    },
    {
      "cell_type": "markdown",
      "metadata": {
        "id": "nTDGOkHWdjtU"
      },
      "source": [
        "#Question 1 : User with maximum number of messages in the group?"
      ]
    },
    {
      "cell_type": "code",
      "metadata": {
        "id": "wDsVLNd5dg5B"
      },
      "source": [
        "whatsapp_df1[\"Number_of_Messages\"] = [1]* whatsapp_df1.shape[0]\n",
        "#whatsapp_df1.drop(columns=[\"datetime\", \"message\"], inplace= True)\n",
        "whatsapp_df1 = whatsapp_df1.groupby('user')['Number_of_Messages'].count().sort_values(ascending = False).reset_index() \n",
        "\n",
        "\n",
        "#whatsapp_df1 = whatsapp_df1.groupby('user').count().sort_values(by =['Number_of_Messages'], ascending = False )\n"
      ],
      "execution_count": 9,
      "outputs": []
    },
    {
      "cell_type": "markdown",
      "metadata": {
        "id": "UP99uElOvCyu"
      },
      "source": [
        "##DATA VISUALIZATION"
      ]
    },
    {
      "cell_type": "code",
      "metadata": {
        "colab": {
          "base_uri": "https://localhost:8080/",
          "height": 567
        },
        "id": "hzCOG0B2gp6K",
        "outputId": "29edca87-adb4-4325-fda7-d03cc76cba10"
      },
      "source": [
        "#sns.set_style(\"darkgrid\")\n",
        "\n",
        "plt.figure(figsize = (16,9))\n",
        "\n",
        "plt.bar(whatsapp_df1.user, whatsapp_df1.Number_of_Messages, color= 'g')\n",
        "plt.xlabel(\"Users\")\n",
        "plt.ylabel(\"Number of messages \")\n",
        "plt.title(\"Maximum number of messages send by  user\")\n",
        "plt.grid(linewidth = 0.5,color = \"black\");"
      ],
      "execution_count": 10,
      "outputs": [
        {
          "output_type": "display_data",
          "data": {
            "image/png": "[encoded data removed]",
            "text/plain": [
              "<Figure size 1152x648 with 1 Axes>"
            ]
          },
          "metadata": {
            "tags": [],
            "needs_background": "light"
          }
        }
      ]
    },
    {
      "cell_type": "code",
      "metadata": {
        "colab": {
          "base_uri": "https://localhost:8080/",
          "height": 542
        },
        "id": "ntCWKqG-hOfJ",
        "outputId": "b106213b-7127-4656-abc5-f5dbdbcfb674"
      },
      "source": [
        "fig = px.pie(whatsapp_df1, values=\"Number_of_Messages\", names=\"user\", title = \"Maximum number of messages send by  user\")\n",
        "fig"
      ],
      "execution_count": 11,
      "outputs": [
        {
          "output_type": "display_data",
          "data": {
            "text/html": [
              "<html>\n",
              "<head><meta charset=\"utf-8\" /></head>\n",
              "<body>\n",
              "    <div>\n",
              "            <script src=\"https://cdnjs.cloudflare.com/ajax/libs/mathjax/2.7.5/MathJax.js?config=TeX-AMS-MML_SVG\"></script><script type=\"text/javascript\">if (window.MathJax) {MathJax.Hub.Config({SVG: {font: \"STIX-Web\"}});}</script>\n",
              "                <script type=\"text/javascript\">window.PlotlyConfig = {MathJaxConfig: 'local'};</script>\n",
              "        <script src=\"https://cdn.plot.ly/plotly-latest.min.js\"></script>    \n",
              "            <div id=\"22a05a5e-5887-43bf-a29b-315c75620d0a\" class=\"plotly-graph-div\" style=\"height:525px; width:100%;\"></div>\n",
              "            <script type=\"text/javascript\">\n",
              "                \n",
              "                    window.PLOTLYENV=window.PLOTLYENV || {};\n",
              "                    \n",
              "                if (document.getElementById(\"22a05a5e-5887-43bf-a29b-315c75620d0a\")) {\n",
              "                    Plotly.newPlot(\n",
              "                        '22a05a5e-5887-43bf-a29b-315c75620d0a',\n",
              "                        [{\"domain\": {\"x\": [0.0, 1.0], \"y\": [0.0, 1.0]}, \"hoverlabel\": {\"namelength\": 0}, \"hovertemplate\": \"user=%{label}<br>Number_of_Messages=%{value}\", \"labels\": [\"Omesh Kumar\", \"Ravi Raj\", \"Uma Jha\", \"+91 85294 80565\", \"Sandeep\", \"Moulik Razdan\", \"+91 77340 02221\", \"NEHA\", \"Shray Tyagi\"], \"legendgroup\": \"\", \"name\": \"\", \"showlegend\": true, \"type\": \"pie\", \"values\": [3340, 2024, 1485, 1135, 1105, 838, 646, 301, 180]}],\n",
              "                        {\"legend\": {\"tracegroupgap\": 0}, \"template\": {\"data\": {\"bar\": [{\"error_x\": {\"color\": \"#2a3f5f\"}, \"error_y\": {\"color\": \"#2a3f5f\"}, \"marker\": {\"line\": {\"color\": \"#E5ECF6\", \"width\": 0.5}}, \"type\": \"bar\"}], \"barpolar\": [{\"marker\": {\"line\": {\"color\": \"#E5ECF6\", \"width\": 0.5}}, \"type\": \"barpolar\"}], \"carpet\": [{\"aaxis\": {\"endlinecolor\": \"#2a3f5f\", \"gridcolor\": \"white\", \"linecolor\": \"white\", \"minorgridcolor\": \"white\", \"startlinecolor\": \"#2a3f5f\"}, \"baxis\": {\"endlinecolor\": \"#2a3f5f\", \"gridcolor\": \"white\", \"linecolor\": \"white\", \"minorgridcolor\": \"white\", \"startlinecolor\": \"#2a3f5f\"}, \"type\": \"carpet\"}], \"choropleth\": [{\"colorbar\": {\"outlinewidth\": 0, \"ticks\": \"\"}, \"type\": \"choropleth\"}], \"contour\": [{\"colorbar\": {\"outlinewidth\": 0, \"ticks\": \"\"}, \"colorscale\": [[0.0, \"#0d0887\"], [0.1111111111111111, \"#46039f\"], [0.2222222222222222, \"#7201a8\"], [0.3333333333333333, \"#9c179e\"], [0.4444444444444444, \"#bd3786\"], [0.5555555555555556, \"#d8576b\"], [0.6666666666666666, \"#ed7953\"], [0.7777777777777778, \"#fb9f3a\"], [0.8888888888888888, \"#fdca26\"], [1.0, \"#f0f921\"]], \"type\": \"contour\"}], \"contourcarpet\": [{\"colorbar\": {\"outlinewidth\": 0, \"ticks\": \"\"}, \"type\": \"contourcarpet\"}], \"heatmap\": [{\"colorbar\": {\"outlinewidth\": 0, \"ticks\": \"\"}, \"colorscale\": [[0.0, \"#0d0887\"], [0.1111111111111111, \"#46039f\"], [0.2222222222222222, \"#7201a8\"], [0.3333333333333333, \"#9c179e\"], [0.4444444444444444, \"#bd3786\"], [0.5555555555555556, \"#d8576b\"], [0.6666666666666666, \"#ed7953\"], [0.7777777777777778, \"#fb9f3a\"], [0.8888888888888888, \"#fdca26\"], [1.0, \"#f0f921\"]], \"type\": \"heatmap\"}], \"heatmapgl\": [{\"colorbar\": {\"outlinewidth\": 0, \"ticks\": \"\"}, \"colorscale\": [[0.0, \"#0d0887\"], [0.1111111111111111, \"#46039f\"], [0.2222222222222222, \"#7201a8\"], [0.3333333333333333, \"#9c179e\"], [0.4444444444444444, \"#bd3786\"], [0.5555555555555556, \"#d8576b\"], [0.6666666666666666, \"#ed7953\"], [0.7777777777777778, \"#fb9f3a\"], [0.8888888888888888, \"#fdca26\"], [1.0, \"#f0f921\"]], \"type\": \"heatmapgl\"}], \"histogram\": [{\"marker\": {\"colorbar\": {\"outlinewidth\": 0, \"ticks\": \"\"}}, \"type\": \"histogram\"}], \"histogram2d\": [{\"colorbar\": {\"outlinewidth\": 0, \"ticks\": \"\"}, \"colorscale\": [[0.0, \"#0d0887\"], [0.1111111111111111, \"#46039f\"], [0.2222222222222222, \"#7201a8\"], [0.3333333333333333, \"#9c179e\"], [0.4444444444444444, \"#bd3786\"], [0.5555555555555556, \"#d8576b\"], [0.6666666666666666, \"#ed7953\"], [0.7777777777777778, \"#fb9f3a\"], [0.8888888888888888, \"#fdca26\"], [1.0, \"#f0f921\"]], \"type\": \"histogram2d\"}], \"histogram2dcontour\": [{\"colorbar\": {\"outlinewidth\": 0, \"ticks\": \"\"}, \"colorscale\": [[0.0, \"#0d0887\"], [0.1111111111111111, \"#46039f\"], [0.2222222222222222, \"#7201a8\"], [0.3333333333333333, \"#9c179e\"], [0.4444444444444444, \"#bd3786\"], [0.5555555555555556, \"#d8576b\"], [0.6666666666666666, \"#ed7953\"], [0.7777777777777778, \"#fb9f3a\"], [0.8888888888888888, \"#fdca26\"], [1.0, \"#f0f921\"]], \"type\": \"histogram2dcontour\"}], \"mesh3d\": [{\"colorbar\": {\"outlinewidth\": 0, \"ticks\": \"\"}, \"type\": \"mesh3d\"}], \"parcoords\": [{\"line\": {\"colorbar\": {\"outlinewidth\": 0, \"ticks\": \"\"}}, \"type\": \"parcoords\"}], \"pie\": [{\"automargin\": true, \"type\": \"pie\"}], \"scatter\": [{\"marker\": {\"colorbar\": {\"outlinewidth\": 0, \"ticks\": \"\"}}, \"type\": \"scatter\"}], \"scatter3d\": [{\"line\": {\"colorbar\": {\"outlinewidth\": 0, \"ticks\": \"\"}}, \"marker\": {\"colorbar\": {\"outlinewidth\": 0, \"ticks\": \"\"}}, \"type\": \"scatter3d\"}], \"scattercarpet\": [{\"marker\": {\"colorbar\": {\"outlinewidth\": 0, \"ticks\": \"\"}}, \"type\": \"scattercarpet\"}], \"scattergeo\": [{\"marker\": {\"colorbar\": {\"outlinewidth\": 0, \"ticks\": \"\"}}, \"type\": \"scattergeo\"}], \"scattergl\": [{\"marker\": {\"colorbar\": {\"outlinewidth\": 0, \"ticks\": \"\"}}, \"type\": \"scattergl\"}], \"scattermapbox\": [{\"marker\": {\"colorbar\": {\"outlinewidth\": 0, \"ticks\": \"\"}}, \"type\": \"scattermapbox\"}], \"scatterpolar\": [{\"marker\": {\"colorbar\": {\"outlinewidth\": 0, \"ticks\": \"\"}}, \"type\": \"scatterpolar\"}], \"scatterpolargl\": [{\"marker\": {\"colorbar\": {\"outlinewidth\": 0, \"ticks\": \"\"}}, \"type\": \"scatterpolargl\"}], \"scatterternary\": [{\"marker\": {\"colorbar\": {\"outlinewidth\": 0, \"ticks\": \"\"}}, \"type\": \"scatterternary\"}], \"surface\": [{\"colorbar\": {\"outlinewidth\": 0, \"ticks\": \"\"}, \"colorscale\": [[0.0, \"#0d0887\"], [0.1111111111111111, \"#46039f\"], [0.2222222222222222, \"#7201a8\"], [0.3333333333333333, \"#9c179e\"], [0.4444444444444444, \"#bd3786\"], [0.5555555555555556, \"#d8576b\"], [0.6666666666666666, \"#ed7953\"], [0.7777777777777778, \"#fb9f3a\"], [0.8888888888888888, \"#fdca26\"], [1.0, \"#f0f921\"]], \"type\": \"surface\"}], \"table\": [{\"cells\": {\"fill\": {\"color\": \"#EBF0F8\"}, \"line\": {\"color\": \"white\"}}, \"header\": {\"fill\": {\"color\": \"#C8D4E3\"}, \"line\": {\"color\": \"white\"}}, \"type\": \"table\"}]}, \"layout\": {\"annotationdefaults\": {\"arrowcolor\": \"#2a3f5f\", \"arrowhead\": 0, \"arrowwidth\": 1}, \"coloraxis\": {\"colorbar\": {\"outlinewidth\": 0, \"ticks\": \"\"}}, \"colorscale\": {\"diverging\": [[0, \"#8e0152\"], [0.1, \"#c51b7d\"], [0.2, \"#de77ae\"], [0.3, \"#f1b6da\"], [0.4, \"#fde0ef\"], [0.5, \"#f7f7f7\"], [0.6, \"#e6f5d0\"], [0.7, \"#b8e186\"], [0.8, \"#7fbc41\"], [0.9, \"#4d9221\"], [1, \"#276419\"]], \"sequential\": [[0.0, \"#0d0887\"], [0.1111111111111111, \"#46039f\"], [0.2222222222222222, \"#7201a8\"], [0.3333333333333333, \"#9c179e\"], [0.4444444444444444, \"#bd3786\"], [0.5555555555555556, \"#d8576b\"], [0.6666666666666666, \"#ed7953\"], [0.7777777777777778, \"#fb9f3a\"], [0.8888888888888888, \"#fdca26\"], [1.0, \"#f0f921\"]], \"sequentialminus\": [[0.0, \"#0d0887\"], [0.1111111111111111, \"#46039f\"], [0.2222222222222222, \"#7201a8\"], [0.3333333333333333, \"#9c179e\"], [0.4444444444444444, \"#bd3786\"], [0.5555555555555556, \"#d8576b\"], [0.6666666666666666, \"#ed7953\"], [0.7777777777777778, \"#fb9f3a\"], [0.8888888888888888, \"#fdca26\"], [1.0, \"#f0f921\"]]}, \"colorway\": [\"#636efa\", \"#EF553B\", \"#00cc96\", \"#ab63fa\", \"#FFA15A\", \"#19d3f3\", \"#FF6692\", \"#B6E880\", \"#FF97FF\", \"#FECB52\"], \"font\": {\"color\": \"#2a3f5f\"}, \"geo\": {\"bgcolor\": \"white\", \"lakecolor\": \"white\", \"landcolor\": \"#E5ECF6\", \"showlakes\": true, \"showland\": true, \"subunitcolor\": \"white\"}, \"hoverlabel\": {\"align\": \"left\"}, \"hovermode\": \"closest\", \"mapbox\": {\"style\": \"light\"}, \"paper_bgcolor\": \"white\", \"plot_bgcolor\": \"#E5ECF6\", \"polar\": {\"angularaxis\": {\"gridcolor\": \"white\", \"linecolor\": \"white\", \"ticks\": \"\"}, \"bgcolor\": \"#E5ECF6\", \"radialaxis\": {\"gridcolor\": \"white\", \"linecolor\": \"white\", \"ticks\": \"\"}}, \"scene\": {\"xaxis\": {\"backgroundcolor\": \"#E5ECF6\", \"gridcolor\": \"white\", \"gridwidth\": 2, \"linecolor\": \"white\", \"showbackground\": true, \"ticks\": \"\", \"zerolinecolor\": \"white\"}, \"yaxis\": {\"backgroundcolor\": \"#E5ECF6\", \"gridcolor\": \"white\", \"gridwidth\": 2, \"linecolor\": \"white\", \"showbackground\": true, \"ticks\": \"\", \"zerolinecolor\": \"white\"}, \"zaxis\": {\"backgroundcolor\": \"#E5ECF6\", \"gridcolor\": \"white\", \"gridwidth\": 2, \"linecolor\": \"white\", \"showbackground\": true, \"ticks\": \"\", \"zerolinecolor\": \"white\"}}, \"shapedefaults\": {\"line\": {\"color\": \"#2a3f5f\"}}, \"ternary\": {\"aaxis\": {\"gridcolor\": \"white\", \"linecolor\": \"white\", \"ticks\": \"\"}, \"baxis\": {\"gridcolor\": \"white\", \"linecolor\": \"white\", \"ticks\": \"\"}, \"bgcolor\": \"#E5ECF6\", \"caxis\": {\"gridcolor\": \"white\", \"linecolor\": \"white\", \"ticks\": \"\"}}, \"title\": {\"x\": 0.05}, \"xaxis\": {\"automargin\": true, \"gridcolor\": \"white\", \"linecolor\": \"white\", \"ticks\": \"\", \"title\": {\"standoff\": 15}, \"zerolinecolor\": \"white\", \"zerolinewidth\": 2}, \"yaxis\": {\"automargin\": true, \"gridcolor\": \"white\", \"linecolor\": \"white\", \"ticks\": \"\", \"title\": {\"standoff\": 15}, \"zerolinecolor\": \"white\", \"zerolinewidth\": 2}}}, \"title\": {\"text\": \"Maximum number of messages send by  user\"}},\n",
              "                        {\"responsive\": true}\n",
              "                    ).then(function(){\n",
              "                            \n",
              "var gd = document.getElementById('22a05a5e-5887-43bf-a29b-315c75620d0a');\n",
              "var x = new MutationObserver(function (mutations, observer) {{\n",
              "        var display = window.getComputedStyle(gd).display;\n",
              "        if (!display || display === 'none') {{\n",
              "            console.log([gd, 'removed!']);\n",
              "            Plotly.purge(gd);\n",
              "            observer.disconnect();\n",
              "        }}\n",
              "}});\n",
              "\n",
              "// Listen for the removal of the full notebook cells\n",
              "var notebookContainer = gd.closest('#notebook-container');\n",
              "if (notebookContainer) {{\n",
              "    x.observe(notebookContainer, {childList: true});\n",
              "}}\n",
              "\n",
              "// Listen for the clearing of the current output cell\n",
              "var outputEl = gd.closest('.output');\n",
              "if (outputEl) {{\n",
              "    x.observe(outputEl, {childList: true});\n",
              "}}\n",
              "\n",
              "                        })\n",
              "                };\n",
              "                \n",
              "            </script>\n",
              "        </div>\n",
              "</body>\n",
              "</html>"
            ]
          },
          "metadata": {
            "tags": []
          }
        }
      ]
    },
    {
      "cell_type": "markdown",
      "metadata": {
        "id": "atBqO21rBUOJ"
      },
      "source": [
        "#Question 2 : Most active hour in the group?"
      ]
    },
    {
      "cell_type": "code",
      "metadata": {
        "id": "0_W4kEz-uL2w"
      },
      "source": [
        "whatsapp_df2 = whatsapp_df.copy();"
      ],
      "execution_count": 12,
      "outputs": []
    },
    {
      "cell_type": "code",
      "metadata": {
        "id": "iaLQ16Eey6ug",
        "colab": {
          "base_uri": "https://localhost:8080/",
          "height": 758
        },
        "outputId": "ba969457-16e8-443b-8ea4-881b3d7448d0"
      },
      "source": [
        "\n",
        "whatsapp_df2[\"Number_of_Messages\"] = [1] * whatsapp_df2.shape[0]\n",
        "#whatsapp_df2 = whatsapp_df2.drop(columns=['datetime', 'user', 'message'], inplace= True)\n",
        "\n",
        "whatsapp_df2[\"hours\"] = whatsapp_df2[\"datetime\"].apply(lambda x: x.hour)\n",
        "#whatsapp_df2 = whatsapp_df2.drop(['datetime', 'user', 'message'],axis=1, inplace= True)\n",
        "time_df = whatsapp_df2.groupby('hours').count().sort_values(by = \"hours\").reset_index()\n",
        "\n",
        "time_df.drop(['user','datetime','message'], axis=1,inplace= True)\n",
        "time_df"
      ],
      "execution_count": 13,
      "outputs": [
        {
          "output_type": "execute_result",
          "data": {
            "text/html": [
              "<div>\n",
              "<style scoped>\n",
              "    .dataframe tbody tr th:only-of-type {\n",
              "        vertical-align: middle;\n",
              "    }\n",
              "\n",
              "    .dataframe tbody tr th {\n",
              "        vertical-align: top;\n",
              "    }\n",
              "\n",
              "    .dataframe thead th {\n",
              "        text-align: right;\n",
              "    }\n",
              "</style>\n",
              "<table border=\"1\" class=\"dataframe\">\n",
              "  <thead>\n",
              "    <tr style=\"text-align: right;\">\n",
              "      <th></th>\n",
              "      <th>hours</th>\n",
              "      <th>Number_of_Messages</th>\n",
              "    </tr>\n",
              "  </thead>\n",
              "  <tbody>\n",
              "    <tr>\n",
              "      <th>0</th>\n",
              "      <td>0</td>\n",
              "      <td>600</td>\n",
              "    </tr>\n",
              "    <tr>\n",
              "      <th>1</th>\n",
              "      <td>1</td>\n",
              "      <td>193</td>\n",
              "    </tr>\n",
              "    <tr>\n",
              "      <th>2</th>\n",
              "      <td>2</td>\n",
              "      <td>1</td>\n",
              "    </tr>\n",
              "    <tr>\n",
              "      <th>3</th>\n",
              "      <td>3</td>\n",
              "      <td>1</td>\n",
              "    </tr>\n",
              "    <tr>\n",
              "      <th>4</th>\n",
              "      <td>5</td>\n",
              "      <td>3</td>\n",
              "    </tr>\n",
              "    <tr>\n",
              "      <th>5</th>\n",
              "      <td>6</td>\n",
              "      <td>13</td>\n",
              "    </tr>\n",
              "    <tr>\n",
              "      <th>6</th>\n",
              "      <td>7</td>\n",
              "      <td>10</td>\n",
              "    </tr>\n",
              "    <tr>\n",
              "      <th>7</th>\n",
              "      <td>8</td>\n",
              "      <td>61</td>\n",
              "    </tr>\n",
              "    <tr>\n",
              "      <th>8</th>\n",
              "      <td>9</td>\n",
              "      <td>441</td>\n",
              "    </tr>\n",
              "    <tr>\n",
              "      <th>9</th>\n",
              "      <td>10</td>\n",
              "      <td>438</td>\n",
              "    </tr>\n",
              "    <tr>\n",
              "      <th>10</th>\n",
              "      <td>11</td>\n",
              "      <td>613</td>\n",
              "    </tr>\n",
              "    <tr>\n",
              "      <th>11</th>\n",
              "      <td>12</td>\n",
              "      <td>670</td>\n",
              "    </tr>\n",
              "    <tr>\n",
              "      <th>12</th>\n",
              "      <td>13</td>\n",
              "      <td>435</td>\n",
              "    </tr>\n",
              "    <tr>\n",
              "      <th>13</th>\n",
              "      <td>14</td>\n",
              "      <td>552</td>\n",
              "    </tr>\n",
              "    <tr>\n",
              "      <th>14</th>\n",
              "      <td>15</td>\n",
              "      <td>627</td>\n",
              "    </tr>\n",
              "    <tr>\n",
              "      <th>15</th>\n",
              "      <td>16</td>\n",
              "      <td>391</td>\n",
              "    </tr>\n",
              "    <tr>\n",
              "      <th>16</th>\n",
              "      <td>17</td>\n",
              "      <td>587</td>\n",
              "    </tr>\n",
              "    <tr>\n",
              "      <th>17</th>\n",
              "      <td>18</td>\n",
              "      <td>652</td>\n",
              "    </tr>\n",
              "    <tr>\n",
              "      <th>18</th>\n",
              "      <td>19</td>\n",
              "      <td>366</td>\n",
              "    </tr>\n",
              "    <tr>\n",
              "      <th>19</th>\n",
              "      <td>20</td>\n",
              "      <td>771</td>\n",
              "    </tr>\n",
              "    <tr>\n",
              "      <th>20</th>\n",
              "      <td>21</td>\n",
              "      <td>1147</td>\n",
              "    </tr>\n",
              "    <tr>\n",
              "      <th>21</th>\n",
              "      <td>22</td>\n",
              "      <td>1401</td>\n",
              "    </tr>\n",
              "    <tr>\n",
              "      <th>22</th>\n",
              "      <td>23</td>\n",
              "      <td>1081</td>\n",
              "    </tr>\n",
              "  </tbody>\n",
              "</table>\n",
              "</div>"
            ],
            "text/plain": [
              "    hours  Number_of_Messages\n",
              "0       0                 600\n",
              "1       1                 193\n",
              "2       2                   1\n",
              "3       3                   1\n",
              "4       5                   3\n",
              "5       6                  13\n",
              "6       7                  10\n",
              "7       8                  61\n",
              "8       9                 441\n",
              "9      10                 438\n",
              "10     11                 613\n",
              "11     12                 670\n",
              "12     13                 435\n",
              "13     14                 552\n",
              "14     15                 627\n",
              "15     16                 391\n",
              "16     17                 587\n",
              "17     18                 652\n",
              "18     19                 366\n",
              "19     20                 771\n",
              "20     21                1147\n",
              "21     22                1401\n",
              "22     23                1081"
            ]
          },
          "metadata": {
            "tags": []
          },
          "execution_count": 13
        }
      ]
    },
    {
      "cell_type": "markdown",
      "metadata": {
        "id": "ZH8gSjgd0pAU"
      },
      "source": [
        "##DATA VISUALIZATION\n"
      ]
    },
    {
      "cell_type": "code",
      "metadata": {
        "colab": {
          "base_uri": "https://localhost:8080/",
          "height": 634
        },
        "id": "bdGNb7R30oZs",
        "outputId": "f704d5a8-39f6-442a-af03-a475016e8e54"
      },
      "source": [
        "plt.figure(figsize = (16,9))\n",
        "\n",
        "plt.bar(time_df.hours, time_df.Number_of_Messages, color= 'rgby')\n",
        "plt.xlabel(\"Time (in hrs)\")\n",
        "plt.ylabel(\"Number of messages \")\n",
        "plt.title(\"total number of messages sent in the group\")\n",
        "plt.grid(linewidth = 0.5,color = \"black\");"
      ],
      "execution_count": 14,
      "outputs": [
        {
          "output_type": "stream",
          "text": [
            "/usr/local/lib/python3.7/dist-packages/ipykernel_launcher.py:3: MatplotlibDeprecationWarning:\n",
            "\n",
            "Using a string of single character colors as a color sequence is deprecated. Use an explicit list instead.\n",
            "\n"
          ],
          "name": "stderr"
        },
        {
          "output_type": "display_data",
          "data": {
            "image/png": "[encoded data removed]",
            "text/plain": [
              "<Figure size 1152x648 with 1 Axes>"
            ]
          },
          "metadata": {
            "tags": [],
            "needs_background": "light"
          }
        }
      ]
    },
    {
      "cell_type": "code",
      "metadata": {
        "colab": {
          "base_uri": "https://localhost:8080/",
          "height": 638
        },
        "id": "mI-S6DrYzoLE",
        "outputId": "8e9c118b-3d3b-4905-d527-9eaca36a578f"
      },
      "source": [
        "plt.figure(figsize = (12,9))\n",
        "\n",
        "sns.lineplot(time_df.hours, time_df.Number_of_Messages,data = time_df );"
      ],
      "execution_count": 15,
      "outputs": [
        {
          "output_type": "stream",
          "text": [
            "/usr/local/lib/python3.7/dist-packages/seaborn/_decorators.py:43: FutureWarning:\n",
            "\n",
            "Pass the following variables as keyword args: x, y. From version 0.12, the only valid positional argument will be `data`, and passing other arguments without an explicit keyword will result in an error or misinterpretation.\n",
            "\n"
          ],
          "name": "stderr"
        },
        {
          "output_type": "display_data",
          "data": {
            "image/png": "[encoded data removed]",
            "text/plain": [
              "<Figure size 864x648 with 1 Axes>"
            ]
          },
          "metadata": {
            "tags": [],
            "needs_background": "light"
          }
        }
      ]
    },
    {
      "cell_type": "markdown",
      "metadata": {
        "id": "U-gQjHKv3pw4"
      },
      "source": [
        "#Question 3 : Most busiest month of the group?"
      ]
    },
    {
      "cell_type": "code",
      "metadata": {
        "id": "Nl5VTHx1qBX6"
      },
      "source": [
        "whatsapp_df3 = whatsapp_df.copy();"
      ],
      "execution_count": 21,
      "outputs": []
    },
    {
      "cell_type": "code",
      "metadata": {
        "colab": {
          "base_uri": "https://localhost:8080/",
          "height": 234
        },
        "id": "SwIp0ylzuyJx",
        "outputId": "39ff1df8-5364-473d-9d56-f4e6340bd911"
      },
      "source": [
        "whatsapp_df3[\"Number_of_Messages\"] = [1] * whatsapp_df3.shape[0]\n",
        "\n",
        "whatsapp_df3[\"Months\"] = whatsapp_df2[\"datetime\"].apply(lambda x: x.month)\n",
        "\n",
        "time_df = whatsapp_df3.groupby('Months').count().sort_values(by = \"Months\").reset_index()\n",
        "\n",
        "time_df.drop(['user','datetime','message'], axis=1,inplace= True)\n",
        "time_df"
      ],
      "execution_count": 23,
      "outputs": [
        {
          "output_type": "execute_result",
          "data": {
            "text/html": [
              "<div>\n",
              "<style scoped>\n",
              "    .dataframe tbody tr th:only-of-type {\n",
              "        vertical-align: middle;\n",
              "    }\n",
              "\n",
              "    .dataframe tbody tr th {\n",
              "        vertical-align: top;\n",
              "    }\n",
              "\n",
              "    .dataframe thead th {\n",
              "        text-align: right;\n",
              "    }\n",
              "</style>\n",
              "<table border=\"1\" class=\"dataframe\">\n",
              "  <thead>\n",
              "    <tr style=\"text-align: right;\">\n",
              "      <th></th>\n",
              "      <th>Months</th>\n",
              "      <th>Number_of_Messages</th>\n",
              "    </tr>\n",
              "  </thead>\n",
              "  <tbody>\n",
              "    <tr>\n",
              "      <th>0</th>\n",
              "      <td>1</td>\n",
              "      <td>4541</td>\n",
              "    </tr>\n",
              "    <tr>\n",
              "      <th>1</th>\n",
              "      <td>2</td>\n",
              "      <td>2998</td>\n",
              "    </tr>\n",
              "    <tr>\n",
              "      <th>2</th>\n",
              "      <td>3</td>\n",
              "      <td>1449</td>\n",
              "    </tr>\n",
              "    <tr>\n",
              "      <th>3</th>\n",
              "      <td>4</td>\n",
              "      <td>1100</td>\n",
              "    </tr>\n",
              "    <tr>\n",
              "      <th>4</th>\n",
              "      <td>5</td>\n",
              "      <td>793</td>\n",
              "    </tr>\n",
              "    <tr>\n",
              "      <th>5</th>\n",
              "      <td>6</td>\n",
              "      <td>173</td>\n",
              "    </tr>\n",
              "  </tbody>\n",
              "</table>\n",
              "</div>"
            ],
            "text/plain": [
              "   Months  Number_of_Messages\n",
              "0       1                4541\n",
              "1       2                2998\n",
              "2       3                1449\n",
              "3       4                1100\n",
              "4       5                 793\n",
              "5       6                 173"
            ]
          },
          "metadata": {
            "tags": []
          },
          "execution_count": 23
        }
      ]
    },
    {
      "cell_type": "markdown",
      "metadata": {
        "id": "zE6AM_lx4jJQ"
      },
      "source": [
        "##DATA VISUALIZATION\n"
      ]
    },
    {
      "cell_type": "code",
      "metadata": {
        "id": "Y-Ztq3HBw2Sl",
        "colab": {
          "base_uri": "https://localhost:8080/",
          "height": 551
        },
        "outputId": "218554b8-17df-41e8-8106-4eb0a68f7bdc"
      },
      "source": [
        "plt.figure(figsize=(16,9))\n",
        "sns.barplot(x= \"Months\", y = \"Number_of_Messages\", data = time_df, palette='muted');"
      ],
      "execution_count": 28,
      "outputs": [
        {
          "output_type": "display_data",
          "data": {
            "image/png": "[encoded data removed]",
            "text/plain": [
              "<Figure size 1152x648 with 1 Axes>"
            ]
          },
          "metadata": {
            "tags": [],
            "needs_background": "light"
          }
        }
      ]
    },
    {
      "cell_type": "code",
      "metadata": {
        "id": "pFBxZBKm6Zi1"
      },
      "source": [
        ""
      ],
      "execution_count": null,
      "outputs": []
    }
  ]
}